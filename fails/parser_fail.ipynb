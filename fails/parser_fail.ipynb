{
 "cells": [
  {
   "cell_type": "code",
   "execution_count": 29,
   "id": "64bd32f4",
   "metadata": {},
   "outputs": [],
   "source": [
    "import requests\n",
    "from bs4 import BeautifulSoup\n",
    "from time import sleep\n",
    "import pandas as pd"
   ]
  },
  {
   "cell_type": "code",
   "execution_count": 32,
   "id": "c6177da8",
   "metadata": {},
   "outputs": [],
   "source": [
    "import warnings\n",
    "warnings.filterwarnings(\"ignore\")"
   ]
  },
  {
   "cell_type": "code",
   "execution_count": 90,
   "id": "3f1d4d28",
   "metadata": {},
   "outputs": [],
   "source": [
    "data = pd.DataFrame(columns = ['title', 'number_of_episodes', 'duretion_of_one_episode', 'genre', 'studios', 'producers', 'rating_count', 'rating'])"
   ]
  },
  {
   "cell_type": "code",
   "execution_count": 18,
   "id": "6488db5b",
   "metadata": {},
   "outputs": [
    {
     "data": {
      "text/plain": [
       "<Response [200]>"
      ]
     },
     "execution_count": 18,
     "metadata": {},
     "output_type": "execute_result"
    }
   ],
   "source": [
    "url = 'https://myanimelist.net/topanime.php?'\n",
    "response = requests.get(url)\n",
    "response"
   ]
  },
  {
   "cell_type": "code",
   "execution_count": 19,
   "id": "e308a5e1",
   "metadata": {},
   "outputs": [],
   "source": [
    "tree = BeautifulSoup(response.content, 'html.parser')"
   ]
  },
  {
   "cell_type": "code",
   "execution_count": 24,
   "id": "09726da1",
   "metadata": {},
   "outputs": [],
   "source": [
    "links = tree.find_all('a', {'class': 'hoverinfo_trigger fl-l ml12 mr8'})"
   ]
  },
  {
   "cell_type": "code",
   "execution_count": 91,
   "id": "516a0080",
   "metadata": {},
   "outputs": [
    {
     "name": "stdout",
     "output_type": "stream",
     "text": [
      "Fullmetal Alchemist: Brotherhood\n",
      "Bleach: Sennen Kessen-hen\n",
      "Shingeki no Kyojin: The Final Season - Kanketsu-hen\n",
      "Steins;Gate\n",
      "Shingeki no Kyojin Season 3 Part 2\n",
      "Gintama°\n",
      "Kaguya-sama wa Kokurasetai: Ultra Romantic\n",
      "Gintama: The Final\n",
      "\"Oshi no Ko\"\n",
      "Gintama'\n",
      "Hunter x Hunter (2011)\n",
      "Gintama': Enchousen\n",
      "Ginga Eiyuu Densetsu\n",
      "Fruits Basket: The Final\n",
      "Gintama.\n",
      "3-gatsu no Lion 2nd Season\n"
     ]
    },
    {
     "ename": "KeyError",
     "evalue": "'\\nGenres'",
     "output_type": "error",
     "traceback": [
      "\u001b[0;31m---------------------------------------------------------------------------\u001b[0m",
      "\u001b[0;31mKeyError\u001b[0m                                  Traceback (most recent call last)",
      "\u001b[0;32m<ipython-input-91-33f5d65f99ad>\u001b[0m in \u001b[0;36m<module>\u001b[0;34m\u001b[0m\n\u001b[1;32m     11\u001b[0m               \u001b[0mmd\u001b[0m\u001b[0;34m[\u001b[0m\u001b[0;34m'\\nEpisodes'\u001b[0m\u001b[0;34m]\u001b[0m\u001b[0;34m,\u001b[0m\u001b[0;34m\u001b[0m\u001b[0;34m\u001b[0m\u001b[0m\n\u001b[1;32m     12\u001b[0m               \u001b[0mmd\u001b[0m\u001b[0;34m[\u001b[0m\u001b[0;34m'\\nDuration'\u001b[0m\u001b[0;34m]\u001b[0m\u001b[0;34m,\u001b[0m\u001b[0;34m\u001b[0m\u001b[0;34m\u001b[0m\u001b[0m\n\u001b[0;32m---> 13\u001b[0;31m               \u001b[0mmd\u001b[0m\u001b[0;34m[\u001b[0m\u001b[0;34m'\\nGenres'\u001b[0m\u001b[0;34m]\u001b[0m\u001b[0;34m,\u001b[0m\u001b[0;34m\u001b[0m\u001b[0;34m\u001b[0m\u001b[0m\n\u001b[0m\u001b[1;32m     14\u001b[0m               \u001b[0mmd\u001b[0m\u001b[0;34m[\u001b[0m\u001b[0;34m'\\nStudios'\u001b[0m\u001b[0;34m]\u001b[0m\u001b[0;34m,\u001b[0m\u001b[0;34m\u001b[0m\u001b[0;34m\u001b[0m\u001b[0m\n\u001b[1;32m     15\u001b[0m               \u001b[0mmd\u001b[0m\u001b[0;34m[\u001b[0m\u001b[0;34m'\\nProducers'\u001b[0m\u001b[0;34m]\u001b[0m\u001b[0;34m,\u001b[0m\u001b[0;34m\u001b[0m\u001b[0;34m\u001b[0m\u001b[0m\n",
      "\u001b[0;31mKeyError\u001b[0m: '\\nGenres'"
     ]
    }
   ],
   "source": [
    "for i in links:\n",
    "    response = requests.get(i['href'])\n",
    "    tree_page = BeautifulSoup(response.content, 'html.parser')\n",
    "    info = tree_page.find('div', {'class': 'leftside'})\n",
    "    print(tree_page.find('strong').text)\n",
    "    md = {}\n",
    "    for j in info.find_all('div', {'class': 'spaceit_pad'}):\n",
    "        string = j.text.split(':')\n",
    "        md[string[0]] = string[1]\n",
    "    new_row = [tree_page.find('strong').text,\n",
    "              md['\\nEpisodes'],\n",
    "              md['\\nDuration'],\n",
    "              md['\\nGenres'],\n",
    "              md['\\nStudios'],\n",
    "              md['\\nProducers'],\n",
    "              tree_page.find('div', {'class': 'fl-l score'})['data-user'],\n",
    "              tree_page.find('div', {'class': 'fl-l score'}).text]\n",
    "    data.loc[len(data.index)] = new_row\n",
    "data"
   ]
  },
  {
   "cell_type": "code",
   "execution_count": 72,
   "id": "a1c8aaec",
   "metadata": {},
   "outputs": [
    {
     "data": {
      "text/plain": [
       "'8.98'"
      ]
     },
     "execution_count": 72,
     "metadata": {},
     "output_type": "execute_result"
    }
   ],
   "source": [
    "tree_page.find('div', {'class': 'fl-l score'}).text"
   ]
  },
  {
   "cell_type": "code",
   "execution_count": 85,
   "id": "56113553",
   "metadata": {},
   "outputs": [
    {
     "data": {
      "text/plain": [
       "'\\n  64\\n  '"
      ]
     },
     "execution_count": 85,
     "metadata": {},
     "output_type": "execute_result"
    }
   ],
   "source": [
    "response = requests.get(links[0]['href'])\n",
    "tree_page = BeautifulSoup(response.content, 'html.parser')\n",
    "info = tree_page.find('div', {'class': 'leftside'})\n",
    "md = {}\n",
    "for j in info.find_all('div', {'class': 'spaceit_pad'}):\n",
    "    string = j.text.split(':')\n",
    "    md[string[0]] = string[1]\n",
    "md['\\nEpisodes']"
   ]
  },
  {
   "cell_type": "code",
   "execution_count": 86,
   "id": "b8f1ca49",
   "metadata": {},
   "outputs": [
    {
     "data": {
      "text/plain": [
       "{'\\nSynonyms': ' Hagane no Renkinjutsushi',\n",
       " '\\nJapanese': ' 鋼の錬金術師 FULLMETAL ALCHEMIST\\n  ',\n",
       " '\\nEnglish': ' Fullmetal Alchemist',\n",
       " '\\nFrench': ' Fullmetal Alchemist Brotherhood\\n    ',\n",
       " '\\nType': '\\nTV',\n",
       " '\\nEpisodes': '\\n  64\\n  ',\n",
       " '\\nStatus': '\\n  Finished Airing\\n  ',\n",
       " '\\nAired': '\\n  Apr 5, 2009 to Jul 4, 2010\\n  ',\n",
       " '\\nPremiered': '\\nSpring 2009\\n',\n",
       " '\\nBroadcast': '\\n    Sundays at 17',\n",
       " '\\nProducers': '\\nAniplex,       Square Enix,       Mainichi Broadcasting System,       Studio Moriken ',\n",
       " '\\nLicensors': '\\nFunimation,       Aniplex of America ',\n",
       " '\\nStudios': '\\nBones ',\n",
       " '\\nSource': '\\n  Manga\\n  ',\n",
       " '\\nGenres': '\\nActionAction,         AdventureAdventure,         DramaDrama,         FantasyFantasy ',\n",
       " '\\nTheme': '\\nMilitaryMilitary ',\n",
       " '\\nDemographic': '\\nShounenShounen ',\n",
       " '\\nDuration': '\\n  24 min. per ep.\\n  ',\n",
       " '\\nRating': '\\n  R - 17+ (violence & profanity)\\n  ',\n",
       " '\\nScore': '\\n9.101 (scored by 20079602,007,960 users)\\n      \\n\\n\\n1\\n          indicates a weighted score.\\n    \\n\\n',\n",
       " '\\nRanked': \"\\n  #12\\n\\n2\\n    based on the top anime page. Please note that 'Not yet aired' and 'R18+' titles are excluded.\\n    \\n\\n\",\n",
       " '\\nPopularity': '\\n  #3\\n',\n",
       " '\\nMembers': '\\n    3,156,744\\n',\n",
       " '\\nFavorites': '\\n  216,529\\n'}"
      ]
     },
     "execution_count": 86,
     "metadata": {},
     "output_type": "execute_result"
    }
   ],
   "source": [
    "md"
   ]
  },
  {
   "cell_type": "markdown",
   "id": "f521e78f",
   "metadata": {},
   "source": [
    "Сайт настолько отвратительно написан что у него буквально вся важная инфа лежит под одними и теми же ярлыками, причем у каждого аниме количество этих ярлыков разное"
   ]
  },
  {
   "cell_type": "code",
   "execution_count": null,
   "id": "907469ec",
   "metadata": {},
   "outputs": [],
   "source": []
  }
 ],
 "metadata": {
  "kernelspec": {
   "display_name": "Python 3",
   "language": "python",
   "name": "python3"
  },
  "language_info": {
   "codemirror_mode": {
    "name": "ipython",
    "version": 3
   },
   "file_extension": ".py",
   "mimetype": "text/x-python",
   "name": "python",
   "nbconvert_exporter": "python",
   "pygments_lexer": "ipython3",
   "version": "3.8.8"
  }
 },
 "nbformat": 4,
 "nbformat_minor": 5
}
